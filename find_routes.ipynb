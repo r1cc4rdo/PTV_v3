{
 "cells": [
  {
   "cell_type": "code",
   "execution_count": 43,
   "metadata": {},
   "outputs": [],
   "source": [
    "!pip install -q googlemaps"
   ]
  },
  {
   "cell_type": "code",
   "execution_count": 44,
   "metadata": {},
   "outputs": [],
   "source": [
    "import json\n",
    "\n",
    "secrets = {\n",
    "    'ptv_id': 'your ptv id',\n",
    "    'ptv_key': 'your ptv key',\n",
    "    'gmaps_key': 'your google maps key'}\n",
    "\n",
    "with open('secrets_json', 'w') as json_file:\n",
    "    json.dump(secrets, json_file)"
   ]
  },
  {
   "cell_type": "code",
   "execution_count": 45,
   "metadata": {
    "id": "98SvEaHfHmAn"
   },
   "outputs": [],
   "source": [
    "import json\n",
    "import pprint\n",
    "import googlemaps\n",
    "from ptvv3 import PTVv3\n",
    "from utils import setup_ptv, setup_gmaps\n",
    "\n",
    "with open('secrets.json', 'r') as json_file:\n",
    "    secrets = json.load(json_file)\n",
    "\n",
    "ptv = setup_ptv(PTVv3(secrets['ptv_id'], secrets['ptv_key']))\n",
    "assert ptv('/v3/route_types')\n",
    "\n",
    "gmaps = setup_gmaps(googlemaps.Client(secrets['gmaps_key']))\n",
    "assert gmaps.reverse_geocode((40.714224, -73.961452))"
   ]
  },
  {
   "cell_type": "markdown",
   "metadata": {},
   "source": [
    "## Find bus routes and closest stops around a GPS coordinate\n",
    "We use Google Maps walking directions to compute actual distance. The one returned from the PTV API is the shortest path *as the crow flies*."
   ]
  },
  {
   "cell_type": "code",
   "execution_count": 18,
   "metadata": {},
   "outputs": [],
   "source": [
    "from copy import deepcopy\n",
    "\n",
    "buses = {\n",
    "    'oakleigh': {'gps': (-37.9057, 145.0927), 'walking_radius': 15},\n",
    "    'huntingdale': {'gps': (-37.911118, 145.102859), 'walking_radius': 3},\n",
    "    'monash': {'gps': (-37.910389, 145.129639), 'walking_radius': 15}}\n",
    "\n",
    "trains = deepcopy(buses)"
   ]
  },
  {
   "cell_type": "code",
   "execution_count": 19,
   "metadata": {},
   "outputs": [],
   "source": [
    "from utils import find_routes_and_stops, filter_by_walking_distance\n",
    "\n",
    "def discover(locations, radius=1500, route_types=2):\n",
    "    for location_name, location_data in locations.items():\n",
    "        find_routes_and_stops(location_data, radius=radius, route_types=route_types)\n",
    "        if 22833 in location_data['stops']:  # returned GPS is for other side of the road, confounding walking directions\n",
    "            location_data['stops'][22833]['gps'] = (-37.90536, 145.09135)  # would otherwise say 5 minutes instead of the 2\n",
    "        filter_by_walking_distance(location_data)\n",
    "        print(f'Found {len(location_data[\"routes\"]):2} routes/directions from {len(location_data[\"stops\"]):2} stops around {location_name.capitalize()}')"
   ]
  },
  {
   "cell_type": "code",
   "execution_count": 20,
   "metadata": {},
   "outputs": [
    {
     "name": "stdout",
     "output_type": "stream",
     "text": [
      "Found 14 routes/directions from 12 stops around Oakleigh\n",
      "Found  4 routes/directions from  1 stops around Huntingdale\n",
      "Found 13 routes/directions from  4 stops around Monash\n"
     ]
    }
   ],
   "source": [
    "discover(buses)  # updates in place"
   ]
  },
  {
   "cell_type": "markdown",
   "metadata": {},
   "source": [
    "## Stops and routes example"
   ]
  },
  {
   "cell_type": "code",
   "execution_count": 21,
   "metadata": {},
   "outputs": [
    {
     "name": "stdout",
     "output_type": "stream",
     "text": [
      "Stops\n",
      " 1  10004: 624, 693\n",
      " 2  10005: 800, 802, 804, 862\n",
      " 3  13989: 625, 701\n",
      " 4  15779: 693\n",
      " 5  16339: 704, 742, 900\n",
      " 6  18098: 630\n",
      " 7  19029: 701\n",
      " 8  22833: 733\n",
      " 9  22875: 630\n",
      "10  25468: 903\n",
      "11  25746: 903\n",
      "12  27477: 624\n",
      "\n",
      "Routes\n",
      " 1  624: [10004, 27477]\n",
      " 2  625: [13989, 13989]\n",
      " 3  630: [18098, 22875]\n",
      " 4  693: [10004, 15779]\n",
      " 5  701: [13989, 19029]\n",
      " 6  704: [16339, 16339]\n",
      " 7  733: [22833, 22833]\n",
      " 8  742: [16339, 16339]\n",
      " 9  800: [10005]\n",
      "10  802: [10005]\n",
      "11  804: [10005]\n",
      "12  862: [10005]\n",
      "13  900: [16339, 16339]\n",
      "14  903: [25468, 25746]\n"
     ]
    }
   ],
   "source": [
    "print('Stops')\n",
    "for index, stop_data in enumerate(sorted(buses['oakleigh']['stops'].values(), key=lambda s: s['id'])):\n",
    "    routes = sorted(buses['oakleigh']['routes'][route_id]['number'] for route_id in stop_data['routes'])\n",
    "    print(f'{index+1:2}  {stop_data[\"id\"]}: {\", \".join(routes)}')\n",
    "\n",
    "print('\\nRoutes')\n",
    "for index, route_data in enumerate(sorted(buses['oakleigh']['routes'].values(), key=lambda r: r['number'])):\n",
    "    stops = sorted(direction['stop'] for direction in route_data['directions'].values())\n",
    "    print(f'{index+1:2}  {route_data[\"number\"]}: {stops}')"
   ]
  },
  {
   "cell_type": "code",
   "execution_count": 22,
   "metadata": {},
   "outputs": [
    {
     "name": "stdout",
     "output_type": "stream",
     "text": [
      "Route #13135 (bus 701)\n",
      "{'directions': {184: {'name': 'Oakleigh', 'sequence': 38, 'stop': 19029},\n",
      "                207: {'name': 'Bentleigh', 'sequence': 1, 'stop': 13989}},\n",
      " 'id': 13135,\n",
      " 'name': 'Oakleigh - Bentleigh via Mackie Road & Brady Road',\n",
      " 'number': '701',\n",
      " 'type': 2}\n",
      "\n",
      "Stop #13989 (Oakleigh Station/Johnson St)\n",
      "{'address': '15 Johnson St, Oakleigh VIC 3166, Australia',\n",
      " 'distance': 737.651367,\n",
      " 'gps': (-37.9005356, 145.087433),\n",
      " 'id': 13989,\n",
      " 'name': 'Oakleigh Station/Johnson St',\n",
      " 'routes': {13027: {27: 3, 181: 46}, 13135: {207: 1}},\n",
      " 'walking': {'distance': {'text': '0.9 km', 'value': 904},\n",
      "             'duration': {'text': '12 mins', 'value': 746}}}\n"
     ]
    }
   ],
   "source": [
    "route_id, stop_id = 13135, 13989\n",
    "\n",
    "print(f\"Route #{route_id} (bus {buses['oakleigh']['routes'][route_id]['number']})\")\n",
    "pprint.pprint(buses['oakleigh']['routes'][13135])  # note: different closest stop for different direction\n",
    "\n",
    "print(f\"\\nStop #{stop_id} ({buses['oakleigh']['stops'][stop_id]['name']})\")\n",
    "pprint.pprint(buses['oakleigh']['stops'][13989])  # note: same stop for both directions"
   ]
  },
  {
   "cell_type": "markdown",
   "metadata": {},
   "source": [
    "## Find connecting routes between two locations\n",
    "Given the bus stops previously discovered, find routes in common between two locations. Only direct connections are considered.\n",
    "\n",
    "The correct direction is identified comparing the sequence number of the stops along the route."
   ]
  },
  {
   "cell_type": "code",
   "execution_count": 23,
   "metadata": {},
   "outputs": [],
   "source": [
    "from utils import find_connecting_routes, compute_travel_time\n",
    "\n",
    "oakleigh_to_monash = find_connecting_routes(buses['oakleigh'], buses['monash'])\n",
    "compute_travel_time(oakleigh_to_monash);  # add travel times"
   ]
  },
  {
   "cell_type": "code",
   "execution_count": 164,
   "metadata": {},
   "outputs": [
    {
     "data": {
      "text/html": [
       "<table><thead><tr><th>#</th><th>Route</th><th>Min. time</th><th>Avg. time</th><th>Max time</th><th>Walk to</th><th>Walk at</th><th>From</th><th>To</th></tr></thead><tr><td>1</td><td>630</td><td> 8:00</td><td>10:56</td><td>16:00</td><td> 9:31</td><td> 7:10</td><td>Best St/North Rd</td><td>Monash University</td></tr><tr><td>2</td><td>733</td><td>20:00</td><td>24:51</td><td>29:00</td><td> 1:55</td><td> 7:10</td><td>Willgilson Ct/Golf Links Ave</td><td>Monash University</td></tr><tr><td>3</td><td>742</td><td>14:00</td><td>15:51</td><td>18:00</td><td>12:20</td><td> 8:39</td><td>Westminster St/Burlington St</td><td>Monash University/Research Way</td></tr><tr><td>4</td><td>800</td><td>11:00</td><td>12:52</td><td>17:00</td><td> 9:48</td><td> 9:13</td><td>Oakleigh SC/Hanover St</td><td>Wellington Rd/Princes Hwy</td></tr><tr><td>5</td><td>802</td><td>11:00</td><td>13:00</td><td>16:00</td><td> 9:48</td><td> 7:10</td><td>Oakleigh SC/Hanover St</td><td>Monash University</td></tr><tr><td>6</td><td>804</td><td>10:00</td><td>13:22</td><td>17:00</td><td> 9:48</td><td> 7:10</td><td>Oakleigh SC/Hanover St</td><td>Monash University</td></tr><tr><td>7</td><td>862</td><td>10:00</td><td>12:11</td><td>16:00</td><td> 9:48</td><td> 7:10</td><td>Oakleigh SC/Hanover St</td><td>Monash University</td></tr><tr><td>8</td><td>900</td><td>10:00</td><td>14:39</td><td>19:00</td><td>12:20</td><td> 7:10</td><td>Westminster St/Burlington St</td><td>Monash University</td></tr></table>"
      ],
      "text/plain": [
       "<IPython.core.display.HTML object>"
      ]
     },
     "metadata": {},
     "output_type": "display_data"
    }
   ],
   "source": [
    "from IPython.display import HTML, display\n",
    "\n",
    "def format_time(seconds):\n",
    "    return f'{seconds // 60:2}:{seconds % 60:02}' if seconds is not None else 'N/A'\n",
    "\n",
    "def display_connections(connections, from_location, to_location):\n",
    "    headers = '# Route Min._time Avg._time Max_time Walk_to Walk_at From To'\n",
    "    header = ''.join(f'<th>{name.replace(\"_\", \" \")}</th>' for name in headers.split())\n",
    "    contents = ''.join(f'<tr>{row}</tr>' for row in (\n",
    "        ''.join(f'<td>{cell}</td>' for cell in (\n",
    "            index + 1,\n",
    "            connection[\"number\"],\n",
    "            format_time(connection[\"duration\"][\"min\"]),\n",
    "            format_time(connection[\"duration\"][\"avg\"]),\n",
    "            format_time(connection[\"duration\"][\"max\"]),\n",
    "            format_time(connection[\"walking\"][connection[\"forward_direction\"][\"origin\"]]),\n",
    "            format_time(connection[\"walking\"][connection[\"forward_direction\"][\"destination\"]]),\n",
    "            from_location[\"stops\"][connection[\"forward_direction\"][\"origin\"]][\"name\"],\n",
    "            to_location[\"stops\"][connection[\"forward_direction\"][\"destination\"]][\"name\"]))\n",
    "        for index, connection in enumerate(connections.values())))\n",
    "    \n",
    "    display(HTML(f'<table><thead><tr>{header}</tr></thead>{contents}</table>'))\n",
    "\n",
    "display_connections(oakleigh_to_monash, buses[\"oakleigh\"], buses[\"monash\"])"
   ]
  },
  {
   "cell_type": "markdown",
   "metadata": {},
   "source": [
    "## Example of connection entry"
   ]
  },
  {
   "cell_type": "code",
   "execution_count": 165,
   "metadata": {},
   "outputs": [
    {
     "data": {
      "text/plain": [
       "{'id': 13067,\n",
       " 'type': 2,\n",
       " 'name': 'Elwood - Monash University via Gardenvale & Ormond & Huntingdale',\n",
       " 'number': '630',\n",
       " 'forward_direction': {'id': 188, 'origin': 22875, 'destination': 33430},\n",
       " 'reverse_direction': {'id': 189, 'origin': 33430, 'destination': 18098},\n",
       " 'walking': {22875: 571, 33430: 430, 18098: 617},\n",
       " 'duration': {'min': 480, 'max': 960, 'avg': 656}}"
      ]
     },
     "execution_count": 165,
     "metadata": {},
     "output_type": "execute_result"
    }
   ],
   "source": [
    "oakleigh_to_monash[13067]"
   ]
  },
  {
   "cell_type": "markdown",
   "metadata": {},
   "source": [
    "## Add entry for train"
   ]
  },
  {
   "cell_type": "code",
   "execution_count": 175,
   "metadata": {},
   "outputs": [
    {
     "name": "stdout",
     "output_type": "stream",
     "text": [
      "Found  2 routes/directions from  1 stops around Oakleigh\n",
      "Found  2 routes/directions from  1 stops around Huntingdale\n",
      "Found  0 routes/directions from  0 stops around Monash\n"
     ]
    },
    {
     "data": {
      "text/html": [
       "<table><thead><tr><th>#</th><th>Route</th><th>Min. time</th><th>Avg. time</th><th>Max time</th><th>Walk to</th><th>Walk at</th><th>From</th><th>To</th></tr></thead><tr><td>1</td><td>601</td><td>N/A</td><td>N/A</td><td>N/A</td><td> 0:20</td><td> 7:10</td><td>Huntingdale Station/Haughton Rd</td><td>Monash University</td></tr><tr><td>2</td><td>630</td><td> 6:00</td><td> 7:49</td><td>10:00</td><td> 0:20</td><td> 7:10</td><td>Huntingdale Station/Haughton Rd</td><td>Monash University</td></tr><tr><td>3</td><td>900</td><td> 5:00</td><td> 7:40</td><td>10:00</td><td> 0:20</td><td> 7:10</td><td>Huntingdale Station/Haughton Rd</td><td>Monash University</td></tr></table>"
      ],
      "text/plain": [
       "<IPython.core.display.HTML object>"
      ]
     },
     "metadata": {},
     "output_type": "display_data"
    },
    {
     "data": {
      "text/html": [
       "<table><thead><tr><th>#</th><th>Route</th><th>Min. time</th><th>Avg. time</th><th>Max time</th><th>Walk to</th><th>Walk at</th><th>From</th><th>To</th></tr></thead><tr><td>1</td><td>Train</td><td>12:27</td><td>12:36</td><td>17:27</td><td>13:41</td><td> 7:10</td><td>Oakleigh</td><td>Huntingdale</td></tr><tr><td>2</td><td>Train</td><td>12:27</td><td>12:36</td><td>17:27</td><td>13:41</td><td> 7:10</td><td>Oakleigh</td><td>Huntingdale</td></tr></table>"
      ],
      "text/plain": [
       "<IPython.core.display.HTML object>"
      ]
     },
     "metadata": {},
     "output_type": "display_data"
    }
   ],
   "source": [
    "discover(trains, radius=1500, route_types=0)\n",
    "\n",
    "oakleigh_to_huntingdale = find_connecting_routes(trains['oakleigh'], trains['huntingdale'])\n",
    "compute_travel_time(oakleigh_to_huntingdale)\n",
    "\n",
    "huntingdale_to_monash = find_connecting_routes(buses['huntingdale'], buses['monash'])\n",
    "display_connections(compute_travel_time(huntingdale_to_monash), buses['huntingdale'], buses['monash'])\n",
    "\n",
    "for connection in oakleigh_to_huntingdale.values():\n",
    "    connection['number'] = 'Train'  # connection['name']\n",
    "    bus_to_monash = connection['walking'][connection['forward_direction']['destination']] + 465 + 120  # 7:45 via 601/630/900 + 2min buffer\n",
    "    connection['walking'][connection['forward_direction']['destination']] = 430  # 7:10 walk from Monash bus station\n",
    "    connection['duration'] = {k: v + bus_to_monash for k, v in connection['duration'].items()}\n",
    "\n",
    "display_connections(oakleigh_to_huntingdale, trains['oakleigh'], trains['huntingdale'])\n",
    "merged_connections = oakleigh_to_monash | oakleigh_to_huntingdale"
   ]
  },
  {
   "cell_type": "markdown",
   "metadata": {},
   "source": [
    "## Check routes"
   ]
  },
  {
   "cell_type": "code",
   "execution_count": 214,
   "metadata": {},
   "outputs": [
    {
     "data": {
      "text/html": [
       "<table><thead><tr><th>Status</th><th>Number</th><th>Exit in</th><th>Arrive by</th><th>Alerts</th></tr></thead><tr><td title=\"✔ run active\n",
       "✔ has estimated\n",
       "✔ route active\">🟢</td><td title=\"Pakenham\">Train</td><td title=\"\">    -1:14</td><td title=\"\">13:15</td><td title=\"Pakenham Line: Buses replace trains between Berwick and Pakenham from Wednesday 22 May to 4am Saturday 1 June 2024\n",
       "\n",
       "Maintenance works: Lift access is temporarily unavailable at Southern Cross Station between the Bourke Street concourse and platforms 11 and 12. Lifts can be accessed from the Collins Street end of the platforms. Passengers requiring assistance can contact Travellers Aid on (03) 9670 2072 from 6:30am to 9:30pm.\n",
       "\n",
       "Cranbourne and Pakenham line stations: Temporary car park closures and changes to pedestrian access until 2024\">❗❗❗</td></tr><tr><td title=\"✖ run active\n",
       "✔ has estimated\n",
       "✔ route active\">🟡</td><td title=\"Dandenong - Chadstone via Princes Highway & Oakleigh\">800</td><td title=\"\">     5:33</td><td title=\"\">13:20</td><td title=\"The myki machine at Chadstone Shopping Centre is unavailable until further notice.\">❗</td></tr><tr><td title=\"✔ run active\n",
       "✔ has estimated\n",
       "✔ route active\">🟢</td><td title=\"Elwood - Monash University via Gardenvale & Ormond & Huntingdale\">630</td><td title=\"\">    16:09</td><td title=\"\">13:27</td><td title=\"\"></td></tr><tr><td title=\"✔ run active\n",
       "✔ has estimated\n",
       "✔ route active\">🟢</td><td title=\"Cranbourne\">Train</td><td title=\"\">    10:43</td><td title=\"\">13:27</td><td title=\"Maintenance works: Lift access is temporarily unavailable at Southern Cross Station between the Bourke Street concourse and platforms 11 and 12. Lifts can be accessed from the Collins Street end of the platforms. Passengers requiring assistance can contact Travellers Aid on (03) 9670 2072 from 6:30am to 9:30pm.\n",
       "\n",
       "Cranbourne and Pakenham line stations: Temporary car park closures and changes to pedestrian access until 2024\">❗❗</td></tr><tr><td title=\"✔ run active\n",
       "✔ has estimated\n",
       "✔ route active\">🟢</td><td title=\"Dandenong - Chadstone via North Dandenong & Oakleigh\">862</td><td title=\"\">    15:18</td><td title=\"\">13:27</td><td title=\"The myki machine at Chadstone Shopping Centre is unavailable until further notice.\n",
       "\n",
       "Routes 681, 682, 691, 850 and 862: Temporary stop closure from Wednesday 26 April 2023 until 2026\">❗❗</td></tr><tr><td title=\"✖ run active\n",
       "✔ has estimated\n",
       "✔ route active\">🟡</td><td title=\"Stud Park SC (Rowville) - Caulfield via Monash University & Chadstone (SMARTBUS Service)\">900</td><td title=\"\">    14:02</td><td title=\"\">13:31</td><td title=\"The myki machine at Chadstone Shopping Centre is unavailable until further notice.\">❗</td></tr><tr><td title=\"✔ run active\n",
       "✔ has estimated\n",
       "✔ route active\">🟢</td><td title=\"Dandenong - Chadstone via Mulgrave & Oakleigh\">802</td><td title=\"\">    24:19</td><td title=\"\">13:37</td><td title=\"The myki machine at Chadstone Shopping Centre is unavailable until further notice.\">❗</td></tr><tr><td title=\"✔ run active\n",
       "✔ has estimated\n",
       "✔ route active\">🟢</td><td title=\"Pakenham\">Train</td><td title=\"\">    20:45</td><td title=\"\">13:37</td><td title=\"Pakenham Line: Buses replace trains between Berwick and Pakenham from Wednesday 22 May to 4am Saturday 1 June 2024\n",
       "\n",
       "Maintenance works: Lift access is temporarily unavailable at Southern Cross Station between the Bourke Street concourse and platforms 11 and 12. Lifts can be accessed from the Collins Street end of the platforms. Passengers requiring assistance can contact Travellers Aid on (03) 9670 2072 from 6:30am to 9:30pm.\n",
       "\n",
       "Cranbourne and Pakenham line stations: Temporary car park closures and changes to pedestrian access until 2024\">❗❗❗</td></tr><tr><td title=\"✖ run active\n",
       "✖ has estimated\n",
       "✔ route active\">🔴</td><td title=\"Ringwood - Chadstone SC via Vermont South & Glen Waverley & Oakleigh\">742</td><td title=\"\">    18:12</td><td title=\"\">13:38</td><td title=\"The myki machine at Chadstone Shopping Centre is unavailable until further notice.\">❗</td></tr><tr><td title=\"✖ run active\n",
       "✖ has estimated\n",
       "✔ route active\">🔴</td><td title=\"Oakleigh - Box Hill via Clayton & Monash University & Mt Waverley\">733</td><td title=\"\">    22:38</td><td title=\"\">13:40</td><td title=\"\"></td></tr><tr><td title=\"✔ run active\n",
       "✔ has estimated\n",
       "✔ route active\">🟢</td><td title=\"Dandenong - Chadstone via Princes Highway & Oakleigh\">800</td><td title=\"\">    25:20</td><td title=\"\">13:40</td><td title=\"The myki machine at Chadstone Shopping Centre is unavailable until further notice.\">❗</td></tr><tr><td title=\"✔ run active\n",
       "✔ has estimated\n",
       "✔ route active\">🟢</td><td title=\"Stud Park SC (Rowville) - Caulfield via Monash University & Chadstone (SMARTBUS Service)\">900</td><td title=\"\">    25:02</td><td title=\"\">13:42</td><td title=\"The myki machine at Chadstone Shopping Centre is unavailable until further notice.\">❗</td></tr><tr><td title=\"✔ run active\n",
       "✖ has estimated\n",
       "✔ route active\">🟡</td><td title=\"Dandenong - Chadstone via Wheelers Hill & Oakleigh\">804</td><td title=\"\">    32:42</td><td title=\"\">13:46</td><td title=\"The myki machine at Chadstone Shopping Centre is unavailable until further notice.\">❗</td></tr><tr><td title=\"✔ run active\n",
       "✔ has estimated\n",
       "✔ route active\">🟢</td><td title=\"Elwood - Monash University via Gardenvale & Ormond & Huntingdale\">630</td><td title=\"\">    36:09</td><td title=\"\">13:47</td><td title=\"\"></td></tr><tr><td title=\"✔ run active\n",
       "✔ has estimated\n",
       "✔ route active\">🟢</td><td title=\"Cranbourne\">Train</td><td title=\"\">    30:43</td><td title=\"\">13:47</td><td title=\"Maintenance works: Lift access is temporarily unavailable at Southern Cross Station between the Bourke Street concourse and platforms 11 and 12. Lifts can be accessed from the Collins Street end of the platforms. Passengers requiring assistance can contact Travellers Aid on (03) 9670 2072 from 6:30am to 9:30pm.\n",
       "\n",
       "Cranbourne and Pakenham line stations: Temporary car park closures and changes to pedestrian access until 2024\">❗❗</td></tr><tr><td title=\"✔ run active\n",
       "✔ has estimated\n",
       "✔ route active\">🟢</td><td title=\"Pakenham\">Train</td><td title=\"\">    41:45</td><td title=\"\">13:58</td><td title=\"Pakenham Line: Buses replace trains between Berwick and Pakenham from Wednesday 22 May to 4am Saturday 1 June 2024\n",
       "\n",
       "Maintenance works: Lift access is temporarily unavailable at Southern Cross Station between the Bourke Street concourse and platforms 11 and 12. Lifts can be accessed from the Collins Street end of the platforms. Passengers requiring assistance can contact Travellers Aid on (03) 9670 2072 from 6:30am to 9:30pm.\n",
       "\n",
       "Cranbourne and Pakenham line stations: Temporary car park closures and changes to pedestrian access until 2024\">❗❗❗</td></tr><tr><td title=\"✖ run active\n",
       "✖ has estimated\n",
       "✔ route active\">🔴</td><td title=\"Dandenong - Chadstone via Princes Highway & Oakleigh\">800</td><td title=\"\">    43:44</td><td title=\"\">13:59</td><td title=\"The myki machine at Chadstone Shopping Centre is unavailable until further notice.\">❗</td></tr><tr><td title=\"✔ run active\n",
       "✖ has estimated\n",
       "✔ route active\">🟡</td><td title=\"Stud Park SC (Rowville) - Caulfield via Monash University & Chadstone (SMARTBUS Service)\">900</td><td title=\"\">    43:08</td><td title=\"\">14:00</td><td title=\"The myki machine at Chadstone Shopping Centre is unavailable until further notice.\">❗</td></tr><tr><td title=\"✔ run active\n",
       "✖ has estimated\n",
       "✔ route active\">🟡</td><td title=\"Cranbourne\">Train</td><td title=\"\">    47:43</td><td title=\"\">14:04</td><td title=\"Maintenance works: Lift access is temporarily unavailable at Southern Cross Station between the Bourke Street concourse and platforms 11 and 12. Lifts can be accessed from the Collins Street end of the platforms. Passengers requiring assistance can contact Travellers Aid on (03) 9670 2072 from 6:30am to 9:30pm.\n",
       "\n",
       "Cranbourne and Pakenham line stations: Temporary car park closures and changes to pedestrian access until 2024\">❗❗</td></tr><tr><td title=\"✔ run active\n",
       "✖ has estimated\n",
       "✔ route active\">🟡</td><td title=\"Ringwood - Chadstone SC via Vermont South & Glen Waverley & Oakleigh\">742</td><td title=\"\">    46:12</td><td title=\"\">14:06</td><td title=\"The myki machine at Chadstone Shopping Centre is unavailable until further notice.\">❗</td></tr><tr><td title=\"✔ run active\n",
       "✖ has estimated\n",
       "✔ route active\">🟡</td><td title=\"Elwood - Monash University via Gardenvale & Ormond & Huntingdale\">630</td><td title=\"\">    57:02</td><td title=\"\">14:08</td><td title=\"\"></td></tr><tr><td title=\"✖ run active\n",
       "✖ has estimated\n",
       "✔ route active\">🔴</td><td title=\"Dandenong - Chadstone via North Dandenong & Oakleigh\">862</td><td title=\"\">    56:42</td><td title=\"\">14:09</td><td title=\"The myki machine at Chadstone Shopping Centre is unavailable until further notice.\n",
       "\n",
       "Routes 681, 682, 691, 850 and 862: Temporary stop closure from Wednesday 26 April 2023 until 2026\">❗❗</td></tr><tr><td title=\"✔ run active\n",
       "✖ has estimated\n",
       "✔ route active\">🟡</td><td title=\"Stud Park SC (Rowville) - Caulfield via Monash University & Chadstone (SMARTBUS Service)\">900</td><td title=\"\">    52:08</td><td title=\"\">14:09</td><td title=\"The myki machine at Chadstone Shopping Centre is unavailable until further notice.\">❗</td></tr><tr><td title=\"✖ run active\n",
       "✖ has estimated\n",
       "✔ route active\">🔴</td><td title=\"Oakleigh - Box Hill via Clayton & Monash University & Mt Waverley\">733</td><td title=\"\">    53:38</td><td title=\"\">14:11</td><td title=\"\"></td></tr><tr><td title=\"✔ run active\n",
       "✖ has estimated\n",
       "✔ route active\">🟡</td><td title=\"Pakenham\">Train</td><td title=\"\">    57:45</td><td title=\"\">14:14</td><td title=\"Pakenham Line: Buses replace trains between Berwick and Pakenham from Wednesday 22 May to 4am Saturday 1 June 2024\n",
       "\n",
       "Maintenance works: Lift access is temporarily unavailable at Southern Cross Station between the Bourke Street concourse and platforms 11 and 12. Lifts can be accessed from the Collins Street end of the platforms. Passengers requiring assistance can contact Travellers Aid on (03) 9670 2072 from 6:30am to 9:30pm.\n",
       "\n",
       "Cranbourne and Pakenham line stations: Temporary car park closures and changes to pedestrian access until 2024\">❗❗❗</td></tr><tr><td title=\"✖ run active\n",
       "✖ has estimated\n",
       "✔ route active\">🔴</td><td title=\"Dandenong - Chadstone via Mulgrave & Oakleigh\">802</td><td title=\"\">  1:04:43</td><td title=\"\">14:18</td><td title=\"The myki machine at Chadstone Shopping Centre is unavailable until further notice.\">❗</td></tr><tr><td title=\"✖ run active\n",
       "✖ has estimated\n",
       "✔ route active\">🔴</td><td title=\"Dandenong - Chadstone via Princes Highway & Oakleigh\">800</td><td title=\"\">  1:03:44</td><td title=\"\">14:19</td><td title=\"The myki machine at Chadstone Shopping Centre is unavailable until further notice.\">❗</td></tr><tr><td title=\"✔ run active\n",
       "✖ has estimated\n",
       "✔ route active\">🟡</td><td title=\"Cranbourne\">Train</td><td title=\"\">  1:07:43</td><td title=\"\">14:24</td><td title=\"Maintenance works: Lift access is temporarily unavailable at Southern Cross Station between the Bourke Street concourse and platforms 11 and 12. Lifts can be accessed from the Collins Street end of the platforms. Passengers requiring assistance can contact Travellers Aid on (03) 9670 2072 from 6:30am to 9:30pm.\n",
       "\n",
       "Cranbourne and Pakenham line stations: Temporary car park closures and changes to pedestrian access until 2024\">❗❗</td></tr><tr><td title=\"✖ run active\n",
       "✖ has estimated\n",
       "✔ route active\">🔴</td><td title=\"Dandenong - Chadstone via Wheelers Hill & Oakleigh\">804</td><td title=\"\">  1:12:42</td><td title=\"\">14:26</td><td title=\"The myki machine at Chadstone Shopping Centre is unavailable until further notice.\">❗</td></tr><tr><td title=\"✖ run active\n",
       "✖ has estimated\n",
       "✔ route active\">🔴</td><td title=\"Elwood - Monash University via Gardenvale & Ormond & Huntingdale\">630</td><td title=\"\">  1:17:02</td><td title=\"\">14:28</td><td title=\"\"></td></tr><tr><td title=\"✔ run active\n",
       "✖ has estimated\n",
       "✔ route active\">🟡</td><td title=\"Pakenham\">Train</td><td title=\"\">  1:17:45</td><td title=\"\">14:34</td><td title=\"Pakenham Line: Buses replace trains between Berwick and Pakenham from Wednesday 22 May to 4am Saturday 1 June 2024\n",
       "\n",
       "Maintenance works: Lift access is temporarily unavailable at Southern Cross Station between the Bourke Street concourse and platforms 11 and 12. Lifts can be accessed from the Collins Street end of the platforms. Passengers requiring assistance can contact Travellers Aid on (03) 9670 2072 from 6:30am to 9:30pm.\n",
       "\n",
       "Cranbourne and Pakenham line stations: Temporary car park closures and changes to pedestrian access until 2024\">❗❗❗</td></tr><tr><td title=\"✖ run active\n",
       "✖ has estimated\n",
       "✔ route active\">🔴</td><td title=\"Ringwood - Chadstone SC via Vermont South & Glen Waverley & Oakleigh\">742</td><td title=\"\">  1:15:12</td><td title=\"\">14:35</td><td title=\"The myki machine at Chadstone Shopping Centre is unavailable until further notice.\">❗</td></tr><tr><td title=\"✖ run active\n",
       "✖ has estimated\n",
       "✔ route active\">🔴</td><td title=\"Dandenong - Chadstone via Princes Highway & Oakleigh\">800</td><td title=\"\">  1:23:44</td><td title=\"\">14:39</td><td title=\"The myki machine at Chadstone Shopping Centre is unavailable until further notice.\">❗</td></tr><tr><td title=\"✖ run active\n",
       "✖ has estimated\n",
       "✔ route active\">🔴</td><td title=\"Oakleigh - Box Hill via Clayton & Monash University & Mt Waverley\">733</td><td title=\"\">  1:23:38</td><td title=\"\">14:41</td><td title=\"\"></td></tr><tr><td title=\"✖ run active\n",
       "✖ has estimated\n",
       "✔ route active\">🔴</td><td title=\"Dandenong - Chadstone via North Dandenong & Oakleigh\">862</td><td title=\"\">  1:35:42</td><td title=\"\">14:48</td><td title=\"The myki machine at Chadstone Shopping Centre is unavailable until further notice.\n",
       "\n",
       "Routes 681, 682, 691, 850 and 862: Temporary stop closure from Wednesday 26 April 2023 until 2026\">❗❗</td></tr><tr><td title=\"✖ run active\n",
       "✖ has estimated\n",
       "✔ route active\">🔴</td><td title=\"Dandenong - Chadstone via Mulgrave & Oakleigh\">802</td><td title=\"\">  1:45:43</td><td title=\"\">14:59</td><td title=\"The myki machine at Chadstone Shopping Centre is unavailable until further notice.\">❗</td></tr><tr><td title=\"✖ run active\n",
       "✖ has estimated\n",
       "✔ route active\">🔴</td><td title=\"Ringwood - Chadstone SC via Vermont South & Glen Waverley & Oakleigh\">742</td><td title=\"\">  1:47:12</td><td title=\"\">15:07</td><td title=\"The myki machine at Chadstone Shopping Centre is unavailable until further notice.\">❗</td></tr><tr><td title=\"✖ run active\n",
       "✖ has estimated\n",
       "✔ route active\">🔴</td><td title=\"Oakleigh - Box Hill via Clayton & Monash University & Mt Waverley\">733</td><td title=\"\">  1:50:38</td><td title=\"\">15:08</td><td title=\"\"></td></tr><tr><td title=\"✖ run active\n",
       "✖ has estimated\n",
       "✔ route active\">🔴</td><td title=\"Dandenong - Chadstone via Wheelers Hill & Oakleigh\">804</td><td title=\"\">  1:56:42</td><td title=\"\">15:10</td><td title=\"The myki machine at Chadstone Shopping Centre is unavailable until further notice.\">❗</td></tr><tr><td title=\"✖ run active\n",
       "✖ has estimated\n",
       "✔ route active\">🔴</td><td title=\"Dandenong - Chadstone via North Dandenong & Oakleigh\">862</td><td title=\"\">  2:13:42</td><td title=\"\">15:26</td><td title=\"The myki machine at Chadstone Shopping Centre is unavailable until further notice.\n",
       "\n",
       "Routes 681, 682, 691, 850 and 862: Temporary stop closure from Wednesday 26 April 2023 until 2026\">❗❗</td></tr><tr><td title=\"✖ run active\n",
       "✖ has estimated\n",
       "✔ route active\">🔴</td><td title=\"Oakleigh - Box Hill via Clayton & Monash University & Mt Waverley\">733</td><td title=\"\">  2:17:38</td><td title=\"\">15:35</td><td title=\"\"></td></tr><tr><td title=\"✖ run active\n",
       "✖ has estimated\n",
       "✔ route active\">🔴</td><td title=\"Dandenong - Chadstone via Mulgrave & Oakleigh\">802</td><td title=\"\">  2:26:43</td><td title=\"\">15:40</td><td title=\"The myki machine at Chadstone Shopping Centre is unavailable until further notice.\">❗</td></tr><tr><td title=\"✖ run active\n",
       "✖ has estimated\n",
       "✔ route active\">🔴</td><td title=\"Dandenong - Chadstone via Wheelers Hill & Oakleigh\">804</td><td title=\"\">  2:46:42</td><td title=\"\">16:00</td><td title=\"The myki machine at Chadstone Shopping Centre is unavailable until further notice.\">❗</td></tr><tr><td title=\"✖ run active\n",
       "✖ has estimated\n",
       "✔ route active\">🔴</td><td title=\"Dandenong - Chadstone via North Dandenong & Oakleigh\">862</td><td title=\"\">  2:55:42</td><td title=\"\">16:08</td><td title=\"The myki machine at Chadstone Shopping Centre is unavailable until further notice.\n",
       "\n",
       "Routes 681, 682, 691, 850 and 862: Temporary stop closure from Wednesday 26 April 2023 until 2026\">❗❗</td></tr></table>"
      ],
      "text/plain": [
       "<IPython.core.display.HTML object>"
      ]
     },
     "metadata": {},
     "output_type": "display_data"
    }
   ],
   "source": [
    "from utils import check_routes\n",
    "\n",
    "def display_services(services, connections):\n",
    "    \"\"\"\n",
    "    TODOs:\n",
    "    * need to merge rather than substitute the results using the run reference\n",
    "    * need to remember if a run was seen active in the past, and consider it active\n",
    "    * change data returned by check routes so that times and delta can be recomputed when merging (or updated live!)\n",
    "    * re: the above point, make services a field within the connection db instead of a separate structure?\n",
    "    \"\"\"\n",
    "    legend = '⚫🔴🟡🟢'\n",
    "    headers = 'Status Number Exit_in Arrive_by Alerts'\n",
    "    header = ''.join(f'<th>{name.replace(\"_\", \" \")}</th>' for name in headers.split())\n",
    "    contents = ''.join(f'<tr>{row}</tr>' for row in (\n",
    "        ''.join(f'<td title=\"{tooltip}\">{cell}</td>' for cell, tooltip in (\n",
    "            (legend[sum(service['health'].values())], '\\n'.join(('✖✔'[h] + ' ' + n.replace('_', ' ')) for n, h in service['health'].items())),\n",
    "            (f'{connections[service[\"route_id\"]][\"number\"]}', f'{connections[service[\"route_id\"]][\"name\"]}'),\n",
    "            (print_td(service['get_going_in']), ''),\n",
    "            # (service['departure_time'].astimezone(tz.tzlocal()).strftime('%H:%M'), ''),\n",
    "            (service['arrive_by'].astimezone(tz.tzlocal()).strftime('%H:%M'), ''),\n",
    "            ('❗'*len(service['disruptions']), '\\n\\n'.join(service[\"disruptions\"]))))\n",
    "        for service in sorted(services.values(), key=lambda s: s['arrive_by'])))\n",
    "    \n",
    "    display(HTML(f'<table><thead><tr>{header}</tr></thead>{contents}</table>'))\n",
    "\n",
    "# display_services(check_routes(oakleigh_to_monash))\n",
    "display_services(check_routes(merged_connections), merged_connections)"
   ]
  },
  {
   "cell_type": "code",
   "execution_count": null,
   "metadata": {},
   "outputs": [],
   "source": [
    "import matplotlib.pyplot as plot\n",
    "import numpy as np\n",
    "\n",
    "def fix_path(routes):\n",
    "\n",
    "    plot.figure(figsize=(15, 11))\n",
    "\n",
    "    coords = locations['oakleigh']['gps']\n",
    "    plot.plot(coords[1], coords[0], 'r*', markersize=16)  # annotate\n",
    "    \n",
    "    coords = locations['monash']['gps']\n",
    "    plot.plot(coords[1], coords[0], 'r*', markersize=16)\n",
    "    \n",
    "    for index, (route_id, route_data) in enumerate(routes.items()):\n",
    "\n",
    "        if route_data['route']['bus'] == '802':\n",
    "            route_data['route']['bus'] = '802/804/862'\n",
    "        \n",
    "        if route_data['route']['bus'] == '804':\n",
    "            continue\n",
    "        \n",
    "        if route_data['route']['bus'] == '862':\n",
    "            continue\n",
    "        \n",
    "        colors = 'tab:blue tab:orange tab:green tab:red tab:purple tab:brown tab:pink tab:gray tab:olive tab:cyan'.split()\n",
    "        displacement = [-0.0002, -0.0004, 0.0002, 0.0000, 0.0002, 0.0000, 0.0000, 0.0000][index]\n",
    "        \n",
    "        coords = np.array(route_data['path']['coords'])\n",
    "\n",
    "        if route_data['geopath']:\n",
    "            for path in route_data['geopath']['coords']:\n",
    "                geocoords = np.array(path)\n",
    "\n",
    "                index_start = np.argmin(np.linalg.norm(geocoords - np.array(locations['oakleigh']['gps']), axis=1))\n",
    "                index_dest = np.argmin(np.linalg.norm(geocoords - np.array(locations['monash']['gps']), axis=1))\n",
    "                \n",
    "                geocoords += displacement\n",
    "                plot.plot(geocoords[index_start:index_dest, 1], geocoords[index_start:index_dest, 0],\n",
    "                          colors[index % len(colors)], linestyle='-', linewidth=2)\n",
    "\n",
    "        coords += displacement\n",
    "        plot.plot(coords[:, 1], coords[:, 0], '.', color=colors[index % len(colors)],\n",
    "                  markersize=8, label=f\"{route_data['route']['bus']} {route_data['geopath']['name']}\")\n",
    "        plot.plot(coords[0, 1], coords[0, 0], '.', color=colors[index % len(colors)], markersize=16)\n",
    "        plot.plot(coords[-1, 1], coords[-1, 0], '.', color=colors[index % len(colors)], markersize=16)\n",
    "\n",
    "        # annotate min walking, bus name\n",
    "    \n",
    "    plot.axis('equal')\n",
    "    plot.legend(loc=(0.25, 0.2), prop={'size': 16})\n",
    "    plot.show()\n",
    "\n",
    "    # find minimum indexes\n",
    "    # append corresponding\n",
    "    # repeat\n",
    "\n",
    "    # take min in both direction\n",
    "    # expectation (median) over gaps\n",
    "\n",
    "fix_path(oakleigh_monash)"
   ]
  },
  {
   "cell_type": "code",
   "execution_count": 204,
   "metadata": {},
   "outputs": [],
   "source": [
    "from importlib import reload\n",
    "import utils\n",
    "utils = reload(utils)\n",
    "\n",
    "from utils import setup_ptv, setup_gmaps\n",
    "setup_ptv(ptv), setup_gmaps(gmaps);"
   ]
  },
  {
   "cell_type": "code",
   "execution_count": null,
   "metadata": {},
   "outputs": [],
   "source": []
  }
 ],
 "metadata": {
  "colab": {
   "provenance": []
  },
  "kernelspec": {
   "display_name": "Python 3 (ipykernel)",
   "language": "python",
   "name": "python3"
  },
  "language_info": {
   "codemirror_mode": {
    "name": "ipython",
    "version": 3
   },
   "file_extension": ".py",
   "mimetype": "text/x-python",
   "name": "python",
   "nbconvert_exporter": "python",
   "pygments_lexer": "ipython3",
   "version": "3.10.13"
  }
 },
 "nbformat": 4,
 "nbformat_minor": 4
}
