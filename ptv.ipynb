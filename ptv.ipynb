{
 "cells": [
  {
   "cell_type": "markdown",
   "id": "d489cb93-4c5f-47b8-b8c7-7c7476e67789",
   "metadata": {},
   "source": [
    "# Public Transport Victoria (PTV) Timetable API v3\n",
    "To obtain an ```id/key``` pair please visit the [PTV API website](https://www.ptv.vic.gov.au/footer/data-and-reporting/datasets/ptv-timetable-api).\n",
    "\n",
    "With them, you can create the required  ```secrets.json``` as follows:\n",
    "``` python\n",
    "credentials = {\n",
    "    \"id\": \"your id here\",\n",
    "    \"key\": \"your key here\"}\n",
    "with open('secrets.json', 'w') as json_file:\n",
    "    json.dump(credentials, json_file, indent=4)\n",
    "```"
   ]
  },
  {
   "cell_type": "markdown",
   "id": "7ee2c62f-ec12-41b0-8113-26cacff61679",
   "metadata": {},
   "source": [
    "## Preliminaries: making a request and authentication\n",
    "For details on available endpoints and parameters, refer to [API documentation](https://timetableapi.ptv.vic.gov.au/swagger/ui/index).\n",
    "\n",
    "Let us first instantiate a ```PTVv3``` class:"
   ]
  },
  {
   "cell_type": "code",
   "execution_count": 1,
   "id": "5799ab8f-0ca8-4319-8a65-6aac2b46569a",
   "metadata": {},
   "outputs": [],
   "source": [
    "from ptvv3 import PTVv3\n",
    "import json\n",
    "\n",
    "with open('secrets.json', 'r') as json_file:\n",
    "    credentials = json.load(json_file)\n",
    "    ptv = PTVv3(credentials['id'], credentials['key'], debug=True)"
   ]
  },
  {
   "cell_type": "markdown",
   "id": "53d9d284-b21a-4be5-b1cb-bcf738f44490",
   "metadata": {},
   "source": [
    "Now let's test the API exercising the ```/v3/route_types``` endpoint:"
   ]
  },
  {
   "cell_type": "code",
   "execution_count": 2,
   "id": "84099e1b-2a59-4389-b079-a9f4a8d3c9bb",
   "metadata": {},
   "outputs": [
    {
     "name": "stdout",
     "output_type": "stream",
     "text": [
      "https://timetableapi.ptv.vic.gov.au/v3/route_types?devid=3002669&signature=b99d700e84f1a5eb5cfe853e13188625e7f406d3\n",
      "{'train': 0, 'tram': 1, 'bus': 2, 'vline': 3, 'night bus': 4, 0: 'train', 1: 'tram', 2: 'bus', 3: 'vline', 4: 'night bus'}\n"
     ]
    }
   ],
   "source": [
    "import functools\n",
    "\n",
    "@functools.cache\n",
    "def get_route_typenames():\n",
    "    data = ptv('/v3/route_types')\n",
    "    d = {rt[\"route_type_name\"].lower(): rt[\"route_type\"] for rt in data['route_types']}\n",
    "    return d | {v: k for k, v in d.items()}\n",
    "\n",
    "route_typenames = get_route_typenames()\n",
    "print(route_typenames)\n",
    "ptv.debug = False"
   ]
  },
  {
   "cell_type": "markdown",
   "id": "6ec5ae81-17e4-4a08-bc94-d46ad7612332",
   "metadata": {},
   "source": [
    "## Plumbing primitives\n",
    "We provide here wrappers around 8 endpoints, for collecting information regarding\n",
    "* departures (```/v3/departures/route_type/{route_type}/stop/{stop_id}/route/{route_id}```),\n",
    "* directions (```/v3/directions/route/{route_id}``` and ```/v3/directions/{direction_id}/route_type/{route_type}```),\n",
    "* routes (```/v3/routes/{route_id}```),\n",
    "* runs (```/v3/runs/route/{route_id}/route_type/{route_type}``` and ```/v3/runs/{run_ref}/route_type/{route_type}```) and\n",
    "* stops (```/v3/stops/route/{route_id}/route_type/{route_type}``` and ```/v3/stops/location/{latitude},{longitude}```).\n",
    "\n",
    "The full API documentation can be found [here](https://timetableapi.ptv.vic.gov.au/swagger/ui/index).\n",
    "\n",
    "From a high-level:\n",
    "* a *route* is an ordered collection of *stops* that can run in more than one *direction*.\n",
    "* A *run* represents a vehicle travelling along a *route* in a *direction*.\n",
    "* **TODO** Add/understand if departures is predictive or not.\n",
    "\n",
    "With the above primitives, a possible workflow is:\n",
    "* from location (latitude, longitude) to *stops*\n",
    "* from *stop* to *routes*\n",
    "* from *route* to *directions*\n",
    "* from *route* to *runs*\n",
    "* from *route*/*stop* to *departures*\n",
    "\n",
    "In the following, we'll use the following identifiers to test endpoints:"
   ]
  },
  {
   "cell_type": "code",
   "execution_count": 3,
   "id": "2ed30f0a-65f8-4270-8a1f-e4218cf9681e",
   "metadata": {},
   "outputs": [],
   "source": [
    "route_type = 2  # bus (routes, stops, runs)\n",
    "stop_id = 22833  # Willgilson Ct/Golf Links Ave, Oakleigh\n",
    "route_id = 13271  # bus 733 service from Oakleigh to Box Hill\n",
    "direction_id = 30  # from Oakleigh towards Box Hill (opposite is 182)"
   ]
  },
  {
   "cell_type": "markdown",
   "id": "c9781ba1-2e49-4d54-ab1a-f3953c16ad06",
   "metadata": {},
   "source": [
    "### Departures\n",
    "* Endpoint: ```/v3/departures/route_type/{route_type}/stop/{stop_id}/route/{route_id}``` <br /> *Service departures from the specified stop for the specified route (and route type); departures are timetabled and real-time (if applicable).*"
   ]
  },
  {
   "cell_type": "code",
   "execution_count": null,
   "id": "b42d2763-b056-4c00-9787-df88ff9c4451",
   "metadata": {},
   "outputs": [],
   "source": [
    "\"\"\"\n",
    "Optional parameters:\n",
    "* direction_id id\n",
    "* gtfs bool\n",
    "* date_utc iso8601utc\n",
    "* max_results int\n",
    "* include_cancelled bool\n",
    "* look_backwards bool\n",
    "* expand string\n",
    "* include_geopath bool\n",
    "\"\"\"\n",
    "\n",
    "departures = ptv(f'/v3/departures/route_type/{route_type}/stop/{stop_id}/route/{route_id}', expand='All')  #, include_geopath='true')"
   ]
  },
  {
   "cell_type": "code",
   "execution_count": null,
   "id": "a89b259e-1cb7-477b-9655-d3a0d8548110",
   "metadata": {},
   "outputs": [],
   "source": [
    "departures.keys()"
   ]
  },
  {
   "cell_type": "markdown",
   "id": "51b7969f-646a-4fae-944e-1d89210f7c09",
   "metadata": {},
   "source": [
    "### Directions\n",
    "* ```/v3/directions/route/{route_id}```\n",
    "* ```/v3/directions/{direction_id}/route_type/{route_type}```\n",
    "\n",
    "No parameters"
   ]
  },
  {
   "cell_type": "code",
   "execution_count": null,
   "id": "4f60739b-b2ff-47e8-a355-877c9ccd7cac",
   "metadata": {},
   "outputs": [],
   "source": [
    "directions_route = ptv(f'/v3/directions/route/{route_id}')"
   ]
  },
  {
   "cell_type": "code",
   "execution_count": null,
   "id": "b40485ac-273e-475f-948d-d1c5d03d7eaf",
   "metadata": {},
   "outputs": [],
   "source": [
    "directions_route"
   ]
  },
  {
   "cell_type": "code",
   "execution_count": null,
   "id": "5dbb2646-4067-429f-a75f-47559878a6e7",
   "metadata": {},
   "outputs": [],
   "source": [
    "directions = ptv(f'/v3/directions/{direction_id}/route_type/{route_type}')"
   ]
  },
  {
   "cell_type": "code",
   "execution_count": null,
   "id": "baf7f93c-d952-409b-bc46-55e749d8391f",
   "metadata": {},
   "outputs": [],
   "source": [
    "directions"
   ]
  },
  {
   "cell_type": "markdown",
   "id": "1c200ce6-9179-43c9-8a5a-7582ddcb3035",
   "metadata": {},
   "source": [
    "### Routes\n",
    "* ```/v3/routes/{route_id}```"
   ]
  },
  {
   "cell_type": "code",
   "execution_count": null,
   "id": "a6010947-e6be-4a4d-aee8-04edbc3efc3f",
   "metadata": {},
   "outputs": [],
   "source": [
    "routes = ptv(f'/v3/routes/{route_id}', include_geopath='true')"
   ]
  },
  {
   "cell_type": "code",
   "execution_count": null,
   "id": "480d9864-29a8-404f-88be-b31a316706ab",
   "metadata": {},
   "outputs": [],
   "source": [
    "routes"
   ]
  },
  {
   "cell_type": "markdown",
   "id": "af8df567-02f0-4ae5-b40e-3b87c6377c55",
   "metadata": {},
   "source": [
    "### Runs\n",
    "* ```/v3/runs/route/{route_id}/route_type/{route_type}```\n",
    "* ```/v3/runs/{run_ref}/route_type/{route_type}```"
   ]
  },
  {
   "cell_type": "code",
   "execution_count": null,
   "id": "fa47b4fc-fe70-4f40-8538-39d11a32afbb",
   "metadata": {},
   "outputs": [],
   "source": [
    "runs_route = ptv(f'/v3/runs/route/{route_id}/route_type/{route_type}', expand='All', include_geopath='true')"
   ]
  },
  {
   "cell_type": "code",
   "execution_count": null,
   "id": "b5c621b2-e9ef-4f61-b342-c33b1c43e74f",
   "metadata": {},
   "outputs": [],
   "source": [
    "for index, run in enumerate(runs_route['runs']):\n",
    "    if run['vehicle_position'] is not None:\n",
    "        print(run)"
   ]
  },
  {
   "cell_type": "code",
   "execution_count": null,
   "id": "5c3d5b2f-7e40-4fed-9269-699e7251d2a7",
   "metadata": {},
   "outputs": [],
   "source": [
    "runs = ptv(f'/v3/runs/20-733--1-MF2-215/route_type/{route_type}')"
   ]
  },
  {
   "cell_type": "code",
   "execution_count": null,
   "id": "b2eb0e39-36d7-4f02-8563-420c2630b6f9",
   "metadata": {},
   "outputs": [],
   "source": [
    "runs"
   ]
  },
  {
   "cell_type": "code",
   "execution_count": null,
   "id": "80257593-2f0d-46fb-9ff4-a75260a0055b",
   "metadata": {},
   "outputs": [],
   "source": [
    "ptv(f'/v3/runs/20-733--1-MF2-215', expand='All', include_geopath='true')"
   ]
  },
  {
   "cell_type": "markdown",
   "id": "6b219089-f63d-4a94-a1e9-9f87324cf4b1",
   "metadata": {},
   "source": [
    "### Stops\n",
    "* ```/v3/stops/route/{route_id}/route_type/{route_type}```\n",
    "* ```/v3/stops/location/{latitude},{longitude}```"
   ]
  },
  {
   "cell_type": "code",
   "execution_count": null,
   "id": "fe45b5ce-b5b4-4966-8d47-7e67092afa6a",
   "metadata": {},
   "outputs": [],
   "source": [
    "def v3_stops_route():\n",
    "    pass\n",
    "    \n",
    "def v3_stops_location():\n",
    "    pass"
   ]
  },
  {
   "cell_type": "code",
   "execution_count": null,
   "id": "d2fc5b48-0333-443c-9814-561e935a6b1a",
   "metadata": {},
   "outputs": [],
   "source": [
    "    if not isinstance(route_type, int):\n",
    "        route_type = route_types_dict()[route_type.lower()]"
   ]
  },
  {
   "cell_type": "markdown",
   "id": "5eb8a32d-07cf-4762-a6e1-85bb9188634d",
   "metadata": {},
   "source": [
    "### Mobility options at \\<coordinates\\>\n",
    "Exercising the ```/v3/stops/location/{latitude},{longitude}``` endpoint to discover all unique travel options around a specific coordinate."
   ]
  },
  {
   "cell_type": "code",
   "execution_count": 26,
   "id": "35668023-3b73-4ecc-a38f-6440024fe3e3",
   "metadata": {},
   "outputs": [],
   "source": [
    "def stops_from_location(latitude, longitude, route_types=[], max_results=50, max_distance=200):\n",
    "    request = f'/v3/stops/location/{latitude},{longitude}?'\n",
    "    route_types = [route_types] if isinstance(route_types, int) else route_types\n",
    "    parameters = [f'route_types={route_type}' for route_type in route_types]\n",
    "    parameters.append(f'max_results={max_results}')\n",
    "    parameters.append(f'max_distance={max_distance}')\n",
    "    return do_request(request + '&'.join(parameters))\n",
    "\n",
    "\n",
    "def print_unique_routes(stops):\n",
    "    route_ids = []\n",
    "    for stop in stops['stops']:\n",
    "\n",
    "        # import pprint\n",
    "        # pprint.pprint(stop)\n",
    "        # break\n",
    "        \n",
    "        stop_typename = route_typenames[stop[\"route_type\"]].title()\n",
    "        stop_desc = f'{stop_typename} stop \\x1b[32m{stop[\"stop_id\"]}\\x1b[0m {stop[\"stop_name\"].strip()}, {stop[\"stop_suburb\"]}, \\x1b[34m{round(stop[\"stop_distance\"], 2)}m\\x1b[0m'\n",
    "        stop_printed = False  # delay description for stops whose routes have already been printed\n",
    "        \n",
    "        for route in stop[\"routes\"]:\n",
    "            if route[\"route_id\"] in route_ids:\n",
    "                continue\n",
    "\n",
    "            route_ids.append(route[\"route_id\"])  # debug\n",
    "            if not stop_printed:\n",
    "                print(stop_desc)\n",
    "                stop_printed = True\n",
    "\n",
    "            service_number = ':' if not route[\"route_number\"] else f' \\x1b[31m{route[\"route_number\"]}\\x1b[0m:'\n",
    "            print(f'  - {stop_typename}{service_number} {route[\"route_name\"]} (id: {route[\"route_id\"]})')\n",
    "\n",
    "            # if route[\"route_number\"] == '733':  # debug\n",
    "            #     print(route)  # {... 'route_id': 13271, 'route_name': 'Oakleigh - Box Hill via Clayton & Monash University & Mt Waverley', 'route_number': '733', 'route_gtfs_id': '4-733'}"
   ]
  },
  {
   "cell_type": "code",
   "execution_count": 27,
   "id": "10776e3a-24b5-48fd-a919-ac24b48a4ee8",
   "metadata": {},
   "outputs": [
    {
     "name": "stdout",
     "output_type": "stream",
     "text": [
      "Bus stop \u001b[32m22833\u001b[0m Willgilson Ct/Golf Links Ave, Oakleigh, \u001b[34m135.15m\u001b[0m\n",
      "  - Bus \u001b[31m733\u001b[0m: Oakleigh - Box Hill via Clayton & Monash University & Mt Waverley (id: 13271)\n",
      "Bus stop \u001b[32m16339\u001b[0m Westminster St/Burlington St, Oakleigh, \u001b[34m439.33m\u001b[0m\n",
      "  - Bus \u001b[31m900\u001b[0m: Stud Park SC (Rowville) - Caulfield via Monash University & Chadstone (SMARTBUS Service) (id: 12753)\n",
      "  - Bus \u001b[31m704\u001b[0m: Oakleigh Station - Westall Station via Clayton (id: 13665)\n",
      "  - Bus \u001b[31m742\u001b[0m: Ringwood - Chadstone SC via Vermont South & Glen Waverley & Oakleigh (id: 14930)\n",
      "Bus stop \u001b[32m22875\u001b[0m Best St/North Rd, Oakleigh, \u001b[34m511.25m\u001b[0m\n",
      "  - Bus \u001b[31m630\u001b[0m: Elwood - Monash University via Gardenvale & Ormond & Huntingdale (id: 13067)\n",
      "Bus stop \u001b[32m10005\u001b[0m Oakleigh SC/Hanover St, Oakleigh, \u001b[34m552.75m\u001b[0m\n",
      "  - Bus \u001b[31m862\u001b[0m: Dandenong - Chadstone via North Dandenong & Oakleigh (id: 8922)\n",
      "  - Bus \u001b[31m802\u001b[0m: Dandenong - Chadstone via Mulgrave & Oakleigh (id: 8924)\n",
      "  - Bus \u001b[31m804\u001b[0m: Dandenong - Chadstone via Wheelers Hill & Oakleigh (id: 8934)\n",
      "  - Bus \u001b[31m800\u001b[0m: Dandenong - Chadstone via Princes Highway & Oakleigh (id: 13820)\n"
     ]
    }
   ],
   "source": [
    "willgilson_ct = {'lat': -37.9057, 'lon': 145.0927}\n",
    "monash_bus_hub = {'lat': -37.9143, 'lon': 145.1315}\n",
    "\n",
    "stops = ptv(f'/v3/stops/location/{willgilson_ct[\"lat\"]},{willgilson_ct[\"lon\"]}', max_distance=560)\n",
    "print_unique_routes(stops)\n",
    "\n",
    "# stops = stops_from_location(willgilson_ct['lat'], willgilson_ct['lon'], route_types=0, max_distance=1000)\n",
    "# print_unique_routes(stops)"
   ]
  },
  {
   "cell_type": "markdown",
   "id": "ddae5baf-106b-4590-aca3-b6de3f6fbfb8",
   "metadata": {},
   "source": [
    "### Active buses on a specified route"
   ]
  },
  {
   "cell_type": "code",
   "execution_count": 31,
   "id": "26abe8ae-5738-409a-87d9-f8e030db1c5e",
   "metadata": {},
   "outputs": [],
   "source": [
    "def print_active_buses(route):\n",
    "\n",
    "    runs = ptv(f'/v3/runs/route/{route}/route_type/2', expand='All')['runs']\n",
    "    \n",
    "    for index, run in enumerate(runs):\n",
    "        if run['vehicle_position'] is None:\n",
    "            continue\n",
    "    \n",
    "        pos = run['vehicle_position']\n",
    "        bearing = round(pos[\"bearing\"]) if pos[\"bearing\"] is not None else 'n/a'\n",
    "        print(f'{index:>4}/{len(runs)}) \\x1b[31mseq\\x1b[0m {run[\"run_sequence\"]:3} \\x1b[31mref\\x1b[0m {run[\"run_ref\"]:17} \\x1b[31mpos\\x1b[0m {round(pos[\"latitude\"], 4):.4f},{round(pos[\"longitude\"], 4):.4f} \\x1b[31mdir\\x1b[0m {bearing:3} \\x1b[31mdest\\x1b[0m {run[\"destination_name\"]}')\n",
    "\n",
    "\n",
    "print_active_buses(13271)"
   ]
  },
  {
   "cell_type": "code",
   "execution_count": 38,
   "id": "e87a486b-82ca-450b-825a-2cf5585902da",
   "metadata": {},
   "outputs": [],
   "source": [
    "runs = ptv('/v3/runs/route/13271', expand='All', date_utc='2024-03-20T03:46:22Z')"
   ]
  },
  {
   "cell_type": "code",
   "execution_count": 39,
   "id": "373a687a-3363-4e99-9be6-cad481861dcc",
   "metadata": {},
   "outputs": [
    {
     "data": {
      "text/plain": [
       "defaultdict(list,\n",
       "            {'run_id': [-1],\n",
       "             'run_ref': ['20-733--1-MF2-215',\n",
       "              '20-733--1-MF2-51',\n",
       "              '20-733--1-MF2-53',\n",
       "              '20-733--1-MF2-217',\n",
       "              '20-733--1-MF2-281',\n",
       "              '20-733--1-MF2-115',\n",
       "              '20-733--1-MF2-219',\n",
       "              '20-733--1-MF2-55',\n",
       "              '20-733--1-MF2-283',\n",
       "              '20-733--1-MF2-117',\n",
       "              '20-733--1-MF2-221',\n",
       "              '20-733--1-MF2-57',\n",
       "              '20-733--1-MF2-285',\n",
       "              '20-733--1-MF2-119',\n",
       "              '20-733--1-MF2-223',\n",
       "              '20-733--1-MF2-287',\n",
       "              '20-733--1-MF2-59',\n",
       "              '20-733--1-MF2-225',\n",
       "              '20-733--1-MF2-121',\n",
       "              '20-733--1-MF2-289',\n",
       "              '20-733--1-MF2-61',\n",
       "              '20-733--1-MF2-333',\n",
       "              '20-733--1-MF2-227',\n",
       "              '20-733--1-MF2-123',\n",
       "              '20-733--1-MF2-291',\n",
       "              '20-733--1-MF2-63',\n",
       "              '20-733--1-MF2-125',\n",
       "              '20-733--1-MF2-229',\n",
       "              '20-733--1-MF2-293',\n",
       "              '20-733--1-MF2-65',\n",
       "              '20-733--1-MF2-127',\n",
       "              '20-733--1-MF2-231',\n",
       "              '20-733--1-MF2-67',\n",
       "              '20-733--1-MF2-295',\n",
       "              '20-733--1-MF2-129',\n",
       "              '20-733--1-MF2-233',\n",
       "              '20-733--1-MF2-69',\n",
       "              '20-733--1-MF2-297',\n",
       "              '20-733--1-MF2-131',\n",
       "              '20-733--1-MF2-235',\n",
       "              '20-733--1-MF2-71',\n",
       "              '20-733--1-MF2-299',\n",
       "              '20-733--1-MF2-133',\n",
       "              '20-733--1-MF2-237',\n",
       "              '20-733--1-MF2-73',\n",
       "              '20-733--1-MF2-301',\n",
       "              '20-733--1-MF2-135',\n",
       "              '20-733--1-MF2-239',\n",
       "              '20-733--1-MF2-75',\n",
       "              '20-733--1-MF2-303',\n",
       "              '20-733--1-MF2-137',\n",
       "              '20-733--1-MF2-241',\n",
       "              '20-733--1-MF2-77',\n",
       "              '20-733--1-MF2-305',\n",
       "              '20-733--1-MF2-139',\n",
       "              '20-733--1-MF2-243',\n",
       "              '20-733--1-MF2-79',\n",
       "              '20-733--1-MF2-307',\n",
       "              '20-733--1-MF2-141',\n",
       "              '20-733--1-MF2-245',\n",
       "              '20-733--1-MF2-81',\n",
       "              '20-733--1-MF2-309',\n",
       "              '20-733--1-MF2-143',\n",
       "              '20-733--1-MF2-247',\n",
       "              '20-733--1-MF2-83',\n",
       "              '20-733--1-MF2-311',\n",
       "              '20-733--1-MF2-145',\n",
       "              '20-733--1-MF2-249',\n",
       "              '20-733--1-MF2-85',\n",
       "              '20-733--1-MF2-313',\n",
       "              '20-733--1-MF2-147',\n",
       "              '20-733--1-MF2-251',\n",
       "              '20-733--1-MF2-87',\n",
       "              '20-733--1-MF2-315',\n",
       "              '20-733--1-MF2-253',\n",
       "              '20-733--1-MF2-149',\n",
       "              '20-733--1-MF2-317',\n",
       "              '20-733--1-MF2-89',\n",
       "              '20-733--1-MF2-255',\n",
       "              '20-733--1-MF2-151',\n",
       "              '20-733--1-MF2-319',\n",
       "              '20-733--1-MF2-91',\n",
       "              '20-733--1-MF2-257',\n",
       "              '20-733--1-MF2-153',\n",
       "              '20-733--1-MF2-321',\n",
       "              '20-733--1-MF2-93',\n",
       "              '20-733--1-MF2-259',\n",
       "              '20-733--1-MF2-155',\n",
       "              '20-733--1-MF2-323',\n",
       "              '20-733--1-MF2-95',\n",
       "              '20-733--1-MF2-261',\n",
       "              '20-733--1-MF2-157',\n",
       "              '20-733--1-MF2-325',\n",
       "              '20-733--1-MF2-97',\n",
       "              '20-733--1-MF2-263',\n",
       "              '20-733--1-MF2-159',\n",
       "              '20-733--1-MF2-327',\n",
       "              '20-733--1-MF2-99',\n",
       "              '20-733--1-MF2-161',\n",
       "              '20-733--1-MF2-265',\n",
       "              '20-733--1-MF2-101',\n",
       "              '20-733--1-MF2-329',\n",
       "              '20-733--1-MF2-163',\n",
       "              '20-733--1-MF2-267',\n",
       "              '20-733--1-MF2-331',\n",
       "              '20-733--1-MF2-269',\n",
       "              '20-733--1-MF2-103',\n",
       "              '20-733--1-MF2-271',\n",
       "              '20-733--1-MF2-105',\n",
       "              '20-733--1-MF2-273',\n",
       "              '20-733--1-MF2-107',\n",
       "              '20-733--1-MF2-275',\n",
       "              '20-733--1-MF2-109',\n",
       "              '20-733--1-MF2-111',\n",
       "              '20-733--1-MF2-277',\n",
       "              '20-733--1-MF2-113',\n",
       "              '20-733--1-MF2-279'],\n",
       "             'route_id': [13271],\n",
       "             'route_type': [2],\n",
       "             'final_stop_id': [14035, 13989, 33430],\n",
       "             'destination_name': ['Box Hill Bus Station/Station St ',\n",
       "              'Oakleigh Station/Johnson St ',\n",
       "              'Monash University '],\n",
       "             'status': ['scheduled'],\n",
       "             'direction_id': [30, 182],\n",
       "             'run_sequence': [0,\n",
       "              1,\n",
       "              2,\n",
       "              3,\n",
       "              4,\n",
       "              5,\n",
       "              6,\n",
       "              7,\n",
       "              8,\n",
       "              9,\n",
       "              10,\n",
       "              11,\n",
       "              12,\n",
       "              13,\n",
       "              14,\n",
       "              15,\n",
       "              16,\n",
       "              17,\n",
       "              18,\n",
       "              19,\n",
       "              20,\n",
       "              21,\n",
       "              22,\n",
       "              23,\n",
       "              24,\n",
       "              25,\n",
       "              26,\n",
       "              27,\n",
       "              28,\n",
       "              29,\n",
       "              30,\n",
       "              31,\n",
       "              32,\n",
       "              33,\n",
       "              34,\n",
       "              35,\n",
       "              36,\n",
       "              37,\n",
       "              38,\n",
       "              39,\n",
       "              40,\n",
       "              41,\n",
       "              42,\n",
       "              43,\n",
       "              44,\n",
       "              45,\n",
       "              46,\n",
       "              47,\n",
       "              48,\n",
       "              49,\n",
       "              50,\n",
       "              51,\n",
       "              52,\n",
       "              53,\n",
       "              54,\n",
       "              55,\n",
       "              56,\n",
       "              57,\n",
       "              58,\n",
       "              59,\n",
       "              60,\n",
       "              61,\n",
       "              62,\n",
       "              63,\n",
       "              64,\n",
       "              65,\n",
       "              66,\n",
       "              67,\n",
       "              68,\n",
       "              69,\n",
       "              70,\n",
       "              71,\n",
       "              72,\n",
       "              73,\n",
       "              74,\n",
       "              75,\n",
       "              76,\n",
       "              77,\n",
       "              78,\n",
       "              79,\n",
       "              80,\n",
       "              81,\n",
       "              82,\n",
       "              83,\n",
       "              84,\n",
       "              85,\n",
       "              86,\n",
       "              87,\n",
       "              88,\n",
       "              89,\n",
       "              90,\n",
       "              91,\n",
       "              92,\n",
       "              93,\n",
       "              94,\n",
       "              95,\n",
       "              96,\n",
       "              97,\n",
       "              98,\n",
       "              99,\n",
       "              100,\n",
       "              101,\n",
       "              102,\n",
       "              103,\n",
       "              104,\n",
       "              105,\n",
       "              106,\n",
       "              107,\n",
       "              108,\n",
       "              109,\n",
       "              110,\n",
       "              111,\n",
       "              112,\n",
       "              113,\n",
       "              114,\n",
       "              115,\n",
       "              116],\n",
       "             'express_stop_count': [0],\n",
       "             'vehicle_position': [None],\n",
       "             'vehicle_descriptor': [None],\n",
       "             'geopath': [[]]})"
      ]
     },
     "execution_count": 39,
     "metadata": {},
     "output_type": "execute_result"
    }
   ],
   "source": [
    "from collections import defaultdict\n",
    "\n",
    "merged = defaultdict(list)\n",
    "for run in runs['runs']:\n",
    "    for k, v in run.items():\n",
    "        if v not in merged[k]:\n",
    "            merged[k].append(v)\n",
    "\n",
    "merged"
   ]
  },
  {
   "cell_type": "code",
   "execution_count": null,
   "id": "e1efe19b-6a15-464d-ac4c-43c3efa2345d",
   "metadata": {},
   "outputs": [],
   "source": [
    "import numpy as np\n",
    "from matplotlib import pyplot as plot\n",
    "\n",
    "fig, ax = plot.subplots(figsize=(8, 8))\n",
    "plot.title('Bus 733 -- Oakleigh Station/Johnson St')\n",
    "\n",
    "paths = do_request('/v3/runs/20-733--1-MF2-95?expand=All&include_geopath=true')['runs'][0]['geopath'][0]['paths']\n",
    "for index, path in enumerate(paths):\n",
    "    str_coords = path.replace(', ', ',').split()\n",
    "    coords = np.array([list(map(float, str_coord.split(','))) for str_coord in str_coords])\n",
    "    ax.plot(coords[:, 1], coords[:, 0], ['k-', 'r-'][index])\n",
    "    # ax.plot(coords[:, 1], coords[:, 0], ['k.', 'r.'][index])\n",
    "\n",
    "ax.annotate('Oakleigh', xy=(145.0873714, -37.9005191), xycoords='data', xytext=(-2, 2), textcoords='offset points', ha='right')\n",
    "ax.annotate('Monash', xy=(145.1315377, -37.9142599), xycoords='data', xytext=(2, 2), textcoords='offset points')\n",
    "ax.axis('equal')\n",
    "plot.show()"
   ]
  },
  {
   "cell_type": "markdown",
   "id": "2d359395-b952-49c9-9c02-b32ea662477f",
   "metadata": {},
   "source": [
    "### Links\n",
    "* [Timetable API website](https://www.ptv.vic.gov.au/footer/data-and-reporting/datasets/ptv-timetable-api/)\n",
    "* [Timetable API documentation](https://timetableapi.ptv.vic.gov.au/swagger/ui/index)\n",
    "* [Smartrak OBD II brochure](https://go.smartrak.com/rs/040-SMS-890/images/PDF-Product-Brochure-1199-OBD-II.pdf)"
   ]
  },
  {
   "cell_type": "markdown",
   "id": "db267b84-df08-4b04-9c0e-64e3ff84eb4a",
   "metadata": {},
   "source": [
    "### Implementations\n",
    "* [pyptv3](https://pypi.org/project/pyptv3/) (python)\n",
    "* [PtvTimetableApi](https://github.com/njmh/ptv-timetable-api/blob/master/src/PtvTimetableApi.php) (PHP)"
   ]
  },
  {
   "cell_type": "code",
   "execution_count": null,
   "id": "38acc22f-2806-450e-80ac-177292c31c44",
   "metadata": {},
   "outputs": [],
   "source": [
    "monash_bus_station = {'lat': -37.9142599, 'lon': 145.1315377}\n",
    "\n",
    "stops = stops_from_location(monash_bus_station['lat'], monash_bus_station['lon'], max_distance=100)\n",
    "print_unique_routes(stops)"
   ]
  },
  {
   "cell_type": "code",
   "execution_count": null,
   "id": "c6311ba3-270e-4ff7-bd0d-d8c41d4bf6ad",
   "metadata": {},
   "outputs": [],
   "source": []
  }
 ],
 "metadata": {
  "kernelspec": {
   "display_name": "Python 3 (ipykernel)",
   "language": "python",
   "name": "python3"
  },
  "language_info": {
   "codemirror_mode": {
    "name": "ipython",
    "version": 3
   },
   "file_extension": ".py",
   "mimetype": "text/x-python",
   "name": "python",
   "nbconvert_exporter": "python",
   "pygments_lexer": "ipython3",
   "version": "3.10.13"
  }
 },
 "nbformat": 4,
 "nbformat_minor": 5
}
